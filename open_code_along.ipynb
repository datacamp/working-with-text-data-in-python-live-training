{
 "cells": [
  {
   "cell_type": "markdown",
   "metadata": {},
   "source": [
    "### Welcome to the Python project **Exploring the Evolution of Lego**!\n",
    "\n",
    "It may not be widely known, but Lego has had its share of ups and downs since its inception in the early 20th century. This includes a particularly rough period in the late 90s. As described in [this article](https://www.businessinsider.com/how-lego-made-a-huge-turnaround-2014-2?r=US&IR=T), Lego was only able to survive due to a successful internal brand (Bionicle) and the introduction of its first licensed series: Star Wars.\n",
    "\n",
    "You are a Data Analyst at Lego working with the Sales/Customer Success teams.  The Account Executive responsible for the Star Wars partnership has asked for specific information in preparation for their meeting with the Star Wars team. Although Star Wars was critical to the survival of the brand, Lego has since introduced a wide variety of licensed sets over subsequent years. \n",
    "\n",
    "Your two questions are as follows:\n",
    "\n",
    "**1. What percentage of all licensed sets ever released were Star Wars themed?** Save your answer as a variable `the_force` in the form of an integer (e.g. 25).\n",
    "\n",
    "**2. In which year was Star Wars not the most popular licensed theme (in terms of number of sets released that year)?** Save your answer as a variable `new_era` in the form of an integer (e.g. 2012).\n",
    "\n",
    "The method through which you approach this question is up to you, but one thing to keep in mind is that the **dataset is not necessarily clean**, and may require the removal rows where there are values missing from _critical_ columns.\n",
    "\n",
    "Before diving into our analysis though, let's become familiar with the two datasets that will help you with this project:<br><br>\n",
    "\n",
    "<div style=\"background-color: #ebf4f7; color: #595959; text-align:left; vertical-align: middle; padding: 15px 25px 15px 25px; line-height: 1.6;\">\n",
    "    <div style =\"font-size:20px\"><b>datasets/lego_sets.csv</b></div>\n",
    "<ul>\n",
    "    <li><b>set_num:</b> A code that is unique to each set in the dataset. <b><i>This column is critical, and a missing value indicates the set is a duplicate or invalid!</b></i></li>\n",
    "    <li><b>set_name:</b> A name for every set in the dataset (note that this can be the same for different sets).</li>\n",
    "    <li><b>year:</b> The date the set was released.</li>\n",
    "    <li><b>num_parts:</b> The number of parts contained in the set.<b><i> This column is not central to our analyses, so missing values are acceptable.</b></i></li>\n",
    "        <li><b>theme_name:</b> The name of the sub-theme of the set.</li>\n",
    "    <li><b>parent_theme:</b> The name of the parent theme the set belongs to. Matches the `name` column of the `parent_themes` csv file.</li>\n",
    "</ul>\n",
    "    \n",
    "<div style =\"font-size:20px\"><b>datasets/parent_themes.csv</b></div>\n",
    "<ul>\n",
    "    <li><b>id:</b> A code that is unique to every theme.</li>\n",
    "    <li><b>name:</b> The name of the parent theme.</li>\n",
    "    <li><b>is_licensed:</b> A Boolean column specifying whether the theme is a licensed theme.</li>\n",
    "</ul>\n",
    "    </div>"
   ]
  },
  {
   "cell_type": "code",
   "execution_count": null,
   "metadata": {},
   "outputs": [],
   "source": []
  }
 ],
 "metadata": {
  "kernelspec": {
   "display_name": "Python 3",
   "language": "python",
   "name": "python3"
  },
  "language_info": {
   "codemirror_mode": {
    "name": "ipython",
    "version": 3
   },
   "file_extension": ".py",
   "mimetype": "text/x-python",
   "name": "python",
   "nbconvert_exporter": "python",
   "pygments_lexer": "ipython3",
   "version": "3.7.4"
  }
 },
 "nbformat": 4,
 "nbformat_minor": 2
}
